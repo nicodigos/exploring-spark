{
 "cells": [
  {
   "cell_type": "code",
   "execution_count": 17,
   "id": "b02cf340-adb5-4e3f-8b4d-8e50772a56ba",
   "metadata": {},
   "outputs": [],
   "source": [
    "from pyspark.sql import SparkSession\n",
    "import os\n",
    "import sqlite3\n",
    "import pandas as pd"
   ]
  },
  {
   "cell_type": "code",
   "execution_count": 12,
   "id": "c2398920-afc6-4cd0-bd48-9ea71365c634",
   "metadata": {},
   "outputs": [],
   "source": [
    "conn = sqlite3.connect('datasets/football/soccer/database.sqlite')\n",
    "cursor = conn.cursor()\n",
    "cursor.execute(\"SELECT name FROM sqlite_master WHERE type='table';\")\n",
    "tables = cursor.fetchall()"
   ]
  },
  {
   "cell_type": "code",
   "execution_count": 13,
   "id": "533b4f91-5374-408d-9e19-01b034dd677e",
   "metadata": {},
   "outputs": [
    {
     "data": {
      "text/plain": [
       "[('sqlite_sequence',),\n",
       " ('Player_Attributes',),\n",
       " ('Player',),\n",
       " ('Match',),\n",
       " ('League',),\n",
       " ('Country',),\n",
       " ('Team',),\n",
       " ('Team_Attributes',)]"
      ]
     },
     "execution_count": 13,
     "metadata": {},
     "output_type": "execute_result"
    }
   ],
   "source": [
    "tables"
   ]
  },
  {
   "cell_type": "code",
   "execution_count": 18,
   "id": "36e31d9e-7423-4b7f-973b-c5456a1e0d9e",
   "metadata": {},
   "outputs": [
    {
     "name": "stdout",
     "output_type": "stream",
     "text": [
      "Exported sqlite_sequence to datasets/football/sqlite_sequence.csv\n",
      "Exported Player_Attributes to datasets/football/Player_Attributes.csv\n",
      "Exported Player to datasets/football/Player.csv\n",
      "Exported Match to datasets/football/Match.csv\n",
      "Exported League to datasets/football/League.csv\n",
      "Exported Country to datasets/football/Country.csv\n",
      "Exported Team to datasets/football/Team.csv\n",
      "Exported Team_Attributes to datasets/football/Team_Attributes.csv\n"
     ]
    }
   ],
   "source": [
    "conn = sqlite3.connect(db_path)\n",
    "cursor = conn.cursor()\n",
    "\n",
    "# Get the list of all table names\n",
    "cursor.execute(\"SELECT name FROM sqlite_master WHERE type='table';\")\n",
    "tables = cursor.fetchall()\n",
    "\n",
    "# Iterate over each table name\n",
    "for table_name in tables:\n",
    "    table_name = table_name[0]  # Unpack the tuple\n",
    "    # Read the table into a DataFrame\n",
    "    df = pd.read_sql_query(f\"SELECT * FROM {table_name}\", conn)\n",
    "    # Define the path for the Parquet file\n",
    "    parquet_path = f'datasets/football/{table_name}.csv'\n",
    "    # Export the DataFrame to a Parquet file\n",
    "    df.to_csv(parquet_path)\n",
    "    print(f\"Exported {table_name} to {parquet_path}\")\n",
    "\n",
    "# Close the connection\n",
    "conn.close()\n"
   ]
  },
  {
   "cell_type": "code",
   "execution_count": null,
   "id": "8205048d-8b1c-4f0b-9949-c8ab6e586ca1",
   "metadata": {},
   "outputs": [],
   "source": []
  }
 ],
 "metadata": {
  "kernelspec": {
   "display_name": "Python 3 (ipykernel)",
   "language": "python",
   "name": "python3"
  },
  "language_info": {
   "codemirror_mode": {
    "name": "ipython",
    "version": 3
   },
   "file_extension": ".py",
   "mimetype": "text/x-python",
   "name": "python",
   "nbconvert_exporter": "python",
   "pygments_lexer": "ipython3",
   "version": "3.11.9"
  }
 },
 "nbformat": 4,
 "nbformat_minor": 5
}
