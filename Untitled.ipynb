{
 "cells": [
  {
   "cell_type": "code",
   "execution_count": 1,
   "id": "8aed5011-363a-4cd4-afc2-b34215eaa2b9",
   "metadata": {},
   "outputs": [],
   "source": [
    "from pyspark.sql import SparkSession"
   ]
  },
  {
   "cell_type": "code",
   "execution_count": 3,
   "id": "81e8de9b-bede-4913-b3da-4518202b9d52",
   "metadata": {},
   "outputs": [
    {
     "name": "stderr",
     "output_type": "stream",
     "text": [
      "Setting default log level to \"WARN\".\n",
      "To adjust logging level use sc.setLogLevel(newLevel). For SparkR, use setLogLevel(newLevel).\n",
      "24/07/25 07:57:20 WARN NativeCodeLoader: Unable to load native-hadoop library for your platform... using builtin-java classes where applicable\n"
     ]
    }
   ],
   "source": [
    "spark = SparkSession.builder\\\n",
    "        .appName(\"RDD-manipulation\")\\\n",
    "        .getOrCreate()"
   ]
  },
  {
   "cell_type": "code",
   "execution_count": 4,
   "id": "e8cea32a-faa1-460a-95ce-9bb26fb42895",
   "metadata": {},
   "outputs": [
    {
     "data": {
      "text/html": [
       "\n",
       "            <div>\n",
       "                <p><b>SparkSession - in-memory</b></p>\n",
       "                \n",
       "        <div>\n",
       "            <p><b>SparkContext</b></p>\n",
       "\n",
       "            <p><a href=\"http://fedora:4040\">Spark UI</a></p>\n",
       "\n",
       "            <dl>\n",
       "              <dt>Version</dt>\n",
       "                <dd><code>v3.5.1</code></dd>\n",
       "              <dt>Master</dt>\n",
       "                <dd><code>local[*]</code></dd>\n",
       "              <dt>AppName</dt>\n",
       "                <dd><code>RDD-manipulation</code></dd>\n",
       "            </dl>\n",
       "        </div>\n",
       "        \n",
       "            </div>\n",
       "        "
      ],
      "text/plain": [
       "<pyspark.sql.session.SparkSession at 0x7f41cff89050>"
      ]
     },
     "execution_count": 4,
     "metadata": {},
     "output_type": "execute_result"
    }
   ],
   "source": [
    "spark"
   ]
  },
  {
   "cell_type": "markdown",
   "id": "01a6db84-c4bf-4b81-bf41-c6402553e8d5",
   "metadata": {
    "jp-MarkdownHeadingCollapsed": true
   },
   "source": [
    "# Create RDD"
   ]
  },
  {
   "cell_type": "code",
   "execution_count": 8,
   "id": "5dc0c96e-5447-48b0-98ed-bee71302d6c7",
   "metadata": {},
   "outputs": [],
   "source": [
    "numbers = [1,2,3,4,5]\n",
    "rdd = spark.sparkContext.parallelize(numbers)"
   ]
  },
  {
   "cell_type": "code",
   "execution_count": 9,
   "id": "208b4be7-4c88-4bd9-aac4-31e533cdbe2a",
   "metadata": {},
   "outputs": [
    {
     "data": {
      "text/plain": [
       "ParallelCollectionRDD[0] at readRDDFromFile at PythonRDD.scala:289"
      ]
     },
     "execution_count": 9,
     "metadata": {},
     "output_type": "execute_result"
    }
   ],
   "source": [
    "rdd"
   ]
  },
  {
   "cell_type": "code",
   "execution_count": 10,
   "id": "5a409aae-8457-47fa-8d32-88464b33aac9",
   "metadata": {},
   "outputs": [
    {
     "data": {
      "text/plain": [
       "[1, 2, 3, 4, 5]"
      ]
     },
     "execution_count": 10,
     "metadata": {},
     "output_type": "execute_result"
    }
   ],
   "source": [
    "rdd.collect()"
   ]
  },
  {
   "cell_type": "code",
   "execution_count": 15,
   "id": "406a3374-555e-4a9f-b680-bddaa3beea25",
   "metadata": {},
   "outputs": [],
   "source": [
    "world_champions = [\n",
    "    (\"Brasil\", 5),\n",
    "    (\"Alemania\", 4),\n",
    "    (\"Italia\", 4),\n",
    "    (\"Argentina\", 3),\n",
    "    (\"Uruguay\", 2),\n",
    "    (\"Francia\", 2),\n",
    "    (\"Inglaterra\", 1),\n",
    "    (\"España\", 1)\n",
    "]"
   ]
  },
  {
   "cell_type": "code",
   "execution_count": 16,
   "id": "d9cba900-0bb6-4542-af87-d11a8b13820e",
   "metadata": {},
   "outputs": [],
   "source": [
    "rdd = spark.sparkContext.parallelize(world_champions)"
   ]
  },
  {
   "cell_type": "code",
   "execution_count": 17,
   "id": "e49d895f-c180-40dd-9cab-879ba08978be",
   "metadata": {},
   "outputs": [
    {
     "data": {
      "text/plain": [
       "ParallelCollectionRDD[2] at readRDDFromFile at PythonRDD.scala:289"
      ]
     },
     "execution_count": 17,
     "metadata": {},
     "output_type": "execute_result"
    }
   ],
   "source": [
    "rdd"
   ]
  },
  {
   "cell_type": "code",
   "execution_count": 18,
   "id": "6219057b-445d-472b-b1e5-a0f2ce7f8030",
   "metadata": {},
   "outputs": [
    {
     "data": {
      "text/plain": [
       "[('Brasil', 5),\n",
       " ('Alemania', 4),\n",
       " ('Italia', 4),\n",
       " ('Argentina', 3),\n",
       " ('Uruguay', 2),\n",
       " ('Francia', 2),\n",
       " ('Inglaterra', 1),\n",
       " ('España', 1)]"
      ]
     },
     "execution_count": 18,
     "metadata": {},
     "output_type": "execute_result"
    }
   ],
   "source": [
    "rdd.collect()"
   ]
  },
  {
   "cell_type": "markdown",
   "id": "dd6dec84-cfe4-4b04-8c49-c3ef5845456d",
   "metadata": {
    "jp-MarkdownHeadingCollapsed": true
   },
   "source": [
    "# RDD Operations: Actions\n",
    "Perform operations on RDDs, eager evaluated."
   ]
  },
  {
   "cell_type": "code",
   "execution_count": 19,
   "id": "a7e107c5-69ad-47d0-9bf7-9de461103daf",
   "metadata": {},
   "outputs": [
    {
     "name": "stderr",
     "output_type": "stream",
     "text": [
      "                                                                                \r"
     ]
    },
    {
     "data": {
      "text/plain": [
       "8"
      ]
     },
     "execution_count": 19,
     "metadata": {},
     "output_type": "execute_result"
    }
   ],
   "source": [
    "# Count\n",
    "rdd.count()"
   ]
  },
  {
   "cell_type": "code",
   "execution_count": 20,
   "id": "50419926-fe36-44b1-866c-d4560aed990f",
   "metadata": {},
   "outputs": [
    {
     "data": {
      "text/plain": [
       "('Brasil', 5)"
      ]
     },
     "execution_count": 20,
     "metadata": {},
     "output_type": "execute_result"
    }
   ],
   "source": [
    "# First\n",
    "rdd.first()"
   ]
  },
  {
   "cell_type": "code",
   "execution_count": 21,
   "id": "b4d39c8a-00b2-4e4a-a205-9b4973944cdd",
   "metadata": {},
   "outputs": [
    {
     "data": {
      "text/plain": [
       "[('Brasil', 5), ('Alemania', 4)]"
      ]
     },
     "execution_count": 21,
     "metadata": {},
     "output_type": "execute_result"
    }
   ],
   "source": [
    "rdd.take(2)"
   ]
  },
  {
   "cell_type": "code",
   "execution_count": 23,
   "id": "e82a2540-9a5e-416e-809c-8b8e2281d893",
   "metadata": {},
   "outputs": [
    {
     "name": "stderr",
     "output_type": "stream",
     "text": [
      "Brasil 0.22727272727272727\n",
      "Alemania 0.18181818181818182\n",
      "Inglaterra 0.045454545454545456\n",
      "España 0.045454545454545456\n",
      "Uruguay 0.09090909090909091\n",
      "Francia 0.09090909090909091\n",
      "Italia 0.18181818181818182\n",
      "Argentina 0.13636363636363635\n"
     ]
    }
   ],
   "source": [
    "rdd.foreach(lambda x: print(x[0], x[1]/22))"
   ]
  },
  {
   "cell_type": "markdown",
   "id": "0faf6194-a5d2-442e-a640-2b292b2b19a2",
   "metadata": {
    "jp-MarkdownHeadingCollapsed": true
   },
   "source": [
    "# RDD Operations: Transformations\n",
    "Return a new RDD, lazy evaluated."
   ]
  },
  {
   "cell_type": "code",
   "execution_count": 24,
   "id": "c2bc497c-5a67-48ab-9afe-5d39b8f28bb7",
   "metadata": {},
   "outputs": [],
   "source": [
    "# Map\n",
    "mapper_rdd = rdd.map(lambda x: (x[0], x[1]/22))"
   ]
  },
  {
   "cell_type": "code",
   "execution_count": 25,
   "id": "c2e103b2-c349-4d76-8b1a-0f08060fb80b",
   "metadata": {},
   "outputs": [
    {
     "data": {
      "text/plain": [
       "PythonRDD[7] at RDD at PythonRDD.scala:53"
      ]
     },
     "execution_count": 25,
     "metadata": {},
     "output_type": "execute_result"
    }
   ],
   "source": [
    "mapper_rdd"
   ]
  },
  {
   "cell_type": "code",
   "execution_count": 26,
   "id": "9dfb567c-08b1-430e-b5b2-f4efad1d0935",
   "metadata": {},
   "outputs": [
    {
     "data": {
      "text/plain": [
       "[('Brasil', 0.22727272727272727),\n",
       " ('Alemania', 0.18181818181818182),\n",
       " ('Italia', 0.18181818181818182),\n",
       " ('Argentina', 0.13636363636363635),\n",
       " ('Uruguay', 0.09090909090909091),\n",
       " ('Francia', 0.09090909090909091),\n",
       " ('Inglaterra', 0.045454545454545456),\n",
       " ('España', 0.045454545454545456)]"
      ]
     },
     "execution_count": 26,
     "metadata": {},
     "output_type": "execute_result"
    }
   ],
   "source": [
    "# Have to call an Action to execute the transformation\n",
    "mapper_rdd.collect()"
   ]
  },
  {
   "cell_type": "code",
   "execution_count": 27,
   "id": "7c64668c-907b-4122-8f8f-02aeb043cc15",
   "metadata": {},
   "outputs": [],
   "source": [
    "# Filter\n",
    "filter_rdd = rdd.filter(lambda x: x[1] > 2)"
   ]
  },
  {
   "cell_type": "code",
   "execution_count": 28,
   "id": "56c36509-fd5c-4c9b-8123-2c2446669fd1",
   "metadata": {},
   "outputs": [
    {
     "data": {
      "text/plain": [
       "[('Brasil', 5), ('Alemania', 4), ('Italia', 4), ('Argentina', 3)]"
      ]
     },
     "execution_count": 28,
     "metadata": {},
     "output_type": "execute_result"
    }
   ],
   "source": [
    "filter_rdd.collect()"
   ]
  },
  {
   "cell_type": "code",
   "execution_count": 35,
   "id": "d293f0f0-bb2d-4558-89c3-50d6e564e0c7",
   "metadata": {},
   "outputs": [],
   "source": [
    "# Sortby\n",
    "sorted_rdd = rdd.sortBy(lambda x: x[1], ascending = True)"
   ]
  },
  {
   "cell_type": "code",
   "execution_count": 36,
   "id": "b6b556d2-5015-41c1-ae66-c1243611fd05",
   "metadata": {},
   "outputs": [
    {
     "data": {
      "text/plain": [
       "[('Inglaterra', 1),\n",
       " ('España', 1),\n",
       " ('Uruguay', 2),\n",
       " ('Francia', 2),\n",
       " ('Argentina', 3),\n",
       " ('Alemania', 4),\n",
       " ('Italia', 4),\n",
       " ('Brasil', 5)]"
      ]
     },
     "execution_count": 36,
     "metadata": {},
     "output_type": "execute_result"
    }
   ],
   "source": [
    "sorted_rdd.collect()"
   ]
  },
  {
   "cell_type": "code",
   "execution_count": 33,
   "id": "d76442c8-e4cf-43db-967b-6a06d7135545",
   "metadata": {},
   "outputs": [],
   "source": [
    "# Reduce by key\n",
    "reduced_rdd = rdd.reduceByKey(lambda x, y : x + y)"
   ]
  },
  {
   "cell_type": "code",
   "execution_count": 34,
   "id": "e8f1854b-ca4e-46e4-bded-cb5d37d9a472",
   "metadata": {},
   "outputs": [
    {
     "data": {
      "text/plain": [
       "[('Francia', 2),\n",
       " ('Inglaterra', 1),\n",
       " ('Brasil', 5),\n",
       " ('Uruguay', 2),\n",
       " ('España', 1),\n",
       " ('Alemania', 4),\n",
       " ('Italia', 4),\n",
       " ('Argentina', 3)]"
      ]
     },
     "execution_count": 34,
     "metadata": {},
     "output_type": "execute_result"
    }
   ],
   "source": [
    "reduced_rdd.collect()"
   ]
  },
  {
   "cell_type": "markdown",
   "id": "f774bb85-6116-4114-98fb-d965e9205269",
   "metadata": {
    "jp-MarkdownHeadingCollapsed": true
   },
   "source": [
    "# Save RDDs from text file, read RDDs from text file"
   ]
  },
  {
   "cell_type": "code",
   "execution_count": 37,
   "id": "80f9ae5f-4ce1-4b2f-8899-a6115f445b4b",
   "metadata": {},
   "outputs": [],
   "source": [
    "rdd.saveAsTextFile(\"world_champions.txt\")"
   ]
  },
  {
   "cell_type": "markdown",
   "id": "b6774fd9-f666-48db-8382-7df4dd296a75",
   "metadata": {},
   "source": [
    "Review of the output file. Check that .txt is actually a folder and the rdd was partitionated:\n",
    "~~~\n",
    "[nic0der@fedora first_project]$ ls\n",
    "README.md  SparkSession_SparkContext.ipynb  Untitled.ipynb  venv  world_champions.txt\n",
    "[nic0der@fedora first_project]$ cd world_champions.txt/\n",
    "[nic0der@fedora world_champions.txt]$ ls\n",
    "part-00000  part-00001  part-00002  part-00003  _SUCCESS\n",
    "[nic0der@fedora world_champions.txt]$ cat part-0000\n",
    "cat: part-0000: No such file or directory\n",
    "[nic0der@fedora world_champions.txt]$ cat part-00000\n",
    "('Brasil', 5)\n",
    "('Alemania', 4)\n",
    "[nic0der@fedora world_champions.txt]$ cat part-00001\n",
    "('Italia', 4)\n",
    "('Argentina', 3)\n",
    "[nic0der@fedora world_champions.txt]$ cat part-00002\n",
    "('Uruguay', 2)\n",
    "('Francia', 2)\n",
    "[nic0der@fedora world_champions.txt]$ cat part-00003\n",
    "('Inglaterra', 1)\n",
    "('España', 1)\n",
    "[nic0der@fedora world_champions.txt]$ cat _SUCCESS\n",
    "[nic0der@fedora world_champions.txt]$ S\n",
    "\n",
    "~~~"
   ]
  },
  {
   "cell_type": "code",
   "execution_count": 40,
   "id": "7ccc3a87-ce10-401c-8217-34a710265669",
   "metadata": {},
   "outputs": [],
   "source": [
    "rdd_text = spark.sparkContext.textFile(\"world_champions.txt\")"
   ]
  },
  {
   "cell_type": "code",
   "execution_count": 41,
   "id": "07fb8460-1c8b-42c2-ba80-23d8cab1492d",
   "metadata": {},
   "outputs": [
    {
     "data": {
      "text/plain": [
       "[\"('Inglaterra', 1)\",\n",
       " \"('España', 1)\",\n",
       " \"('Brasil', 5)\",\n",
       " \"('Alemania', 4)\",\n",
       " \"('Italia', 4)\",\n",
       " \"('Argentina', 3)\",\n",
       " \"('Uruguay', 2)\",\n",
       " \"('Francia', 2)\"]"
      ]
     },
     "execution_count": 41,
     "metadata": {},
     "output_type": "execute_result"
    }
   ],
   "source": [
    "rdd_text.collect()"
   ]
  },
  {
   "cell_type": "markdown",
   "id": "705031de-cd5b-4e89-9556-9e89be6a524b",
   "metadata": {
    "jp-MarkdownHeadingCollapsed": true
   },
   "source": [
    "# Shutdown the SparkSession"
   ]
  },
  {
   "cell_type": "code",
   "execution_count": 42,
   "id": "2e2ea437-7ca9-4753-a140-36d11a0cfdc4",
   "metadata": {},
   "outputs": [],
   "source": [
    "spark.stop()"
   ]
  }
 ],
 "metadata": {
  "kernelspec": {
   "display_name": "Python 3 (ipykernel)",
   "language": "python",
   "name": "python3"
  },
  "language_info": {
   "codemirror_mode": {
    "name": "ipython",
    "version": 3
   },
   "file_extension": ".py",
   "mimetype": "text/x-python",
   "name": "python",
   "nbconvert_exporter": "python",
   "pygments_lexer": "ipython3",
   "version": "3.11.9"
  }
 },
 "nbformat": 4,
 "nbformat_minor": 5
}
